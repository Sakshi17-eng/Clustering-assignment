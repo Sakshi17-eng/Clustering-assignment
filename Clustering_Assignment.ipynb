{
 "cells": [
  {
   "cell_type": "markdown",
   "id": "1b7ec8d9",
   "metadata": {},
   "source": [
    "Assignment Code: DA-AG-017"
   ]
  },
  {
   "cell_type": "markdown",
   "id": "bd267c61",
   "metadata": {},
   "source": [
    "Clustering | Assignment"
   ]
  },
  {
   "cell_type": "markdown",
   "id": "93ba6cc7",
   "metadata": {},
   "source": [
    "Instructions: Carefully read each question. Use Google Docs, Microsoft Word, or a similar tool to create a document where you type out each question along with its answer. Save the document as a PDF, and then upload it to the LMS. Please do not zip or archive the files before uploading them. Each question carries 20 marks."
   ]
  },
  {
   "cell_type": "markdown",
   "id": "bd4e2173",
   "metadata": {},
   "source": [
    "Total Marks: 200"
   ]
  },
  {
   "cell_type": "markdown",
   "id": "641c38ca",
   "metadata": {},
   "source": [
    "Question 1: What is the difference between K-Means and Hierarchical Clustering? Provide a use case for each."
   ]
  },
  {
   "cell_type": "markdown",
   "id": "7a6269f1",
   "metadata": {},
   "source": [
    "Answer:"
   ]
  },
  {
   "cell_type": "markdown",
   "id": "91835b9c",
   "metadata": {},
   "source": [
    "Question 2: Explain the purpose of the Silhouette Score in evaluating clustering algorithms."
   ]
  },
  {
   "cell_type": "markdown",
   "id": "4c9f6da6",
   "metadata": {},
   "source": [
    "Answer:"
   ]
  },
  {
   "cell_type": "markdown",
   "id": "9c331b88",
   "metadata": {},
   "source": [
    "1"
   ]
  },
  {
   "cell_type": "markdown",
   "id": "5fcf6c5f",
   "metadata": {},
   "source": [
    "Question 3: What are the core parameters of DBSCAN, and how do they influence the clustering process?"
   ]
  },
  {
   "cell_type": "markdown",
   "id": "bced1b33",
   "metadata": {},
   "source": [
    "Answer:"
   ]
  },
  {
   "cell_type": "markdown",
   "id": "4cf939c5",
   "metadata": {},
   "source": [
    "Question 4: Why is feature scaling important when applying clustering algorithms like K-Means and DBSCAN?"
   ]
  },
  {
   "cell_type": "markdown",
   "id": "87d70be2",
   "metadata": {},
   "source": [
    "Answer:"
   ]
  },
  {
   "cell_type": "markdown",
   "id": "6147e857",
   "metadata": {},
   "source": [
    "Question 5: What is the Elbow Method in K-Means clustering and how does it help determine the optimal number of clusters?"
   ]
  },
  {
   "cell_type": "markdown",
   "id": "587bc0f1",
   "metadata": {},
   "source": [
    "Answer:"
   ]
  },
  {
   "cell_type": "markdown",
   "id": "ca3ede65",
   "metadata": {},
   "source": [
    "2"
   ]
  },
  {
   "cell_type": "markdown",
   "id": "dc681aef",
   "metadata": {},
   "source": [
    "Dataset:"
   ]
  },
  {
   "cell_type": "markdown",
   "id": "f9ee3f82",
   "metadata": {},
   "source": [
    "Use make_blobs, make_moons, and sklearn.datasets.load_wine() as specified."
   ]
  },
  {
   "cell_type": "markdown",
   "id": "6d4105b7",
   "metadata": {},
   "source": [
    "Question 6: Generate synthetic data using make_blobs(n_samples=300, centers=4), apply KMeans clustering, and visualize the results with cluster centers."
   ]
  },
  {
   "cell_type": "markdown",
   "id": "6905fad1",
   "metadata": {},
   "source": [
    "(Include your Python code and output in the code box below.)"
   ]
  },
  {
   "cell_type": "markdown",
   "id": "b8fbb303",
   "metadata": {},
   "source": [
    "Answer:"
   ]
  },
  {
   "cell_type": "markdown",
   "id": "5807b5a4",
   "metadata": {},
   "source": [
    "Question 7: Load the Wine dataset, apply StandardScaler , and then train a DBSCAN model. Print the number of clusters found (excluding noise)."
   ]
  },
  {
   "cell_type": "markdown",
   "id": "e435c397",
   "metadata": {},
   "source": [
    "(Include your Python code and output in the code box below.)"
   ]
  },
  {
   "cell_type": "markdown",
   "id": "8dc1ff20",
   "metadata": {},
   "source": [
    "Answer:"
   ]
  },
  {
   "cell_type": "markdown",
   "id": "017285f9",
   "metadata": {},
   "source": [
    "Question 8: Generate moon-shaped synthetic data using"
   ]
  },
  {
   "cell_type": "markdown",
   "id": "4bec283d",
   "metadata": {},
   "source": [
    "make_moons(n_samples=200, noise=0.1), apply DBSCAN, and highlight the outliers in the plot."
   ]
  },
  {
   "cell_type": "markdown",
   "id": "236f4e13",
   "metadata": {},
   "source": [
    "(Include your Python code and output in the code box below.)"
   ]
  },
  {
   "cell_type": "markdown",
   "id": "15d35433",
   "metadata": {},
   "source": [
    "Answer:"
   ]
  },
  {
   "cell_type": "markdown",
   "id": "57e89abd",
   "metadata": {},
   "source": [
    "3"
   ]
  },
  {
   "cell_type": "markdown",
   "id": "f929a41e",
   "metadata": {},
   "source": [
    "Question 9: Load the Wine dataset, reduce it to 2D using PCA, then apply Agglomerative Clustering and visualize the result in 2D with a scatter plot. (Include your Python code and output in the code box below.)"
   ]
  },
  {
   "cell_type": "markdown",
   "id": "90fe9d8b",
   "metadata": {},
   "source": [
    "Answer:"
   ]
  },
  {
   "cell_type": "markdown",
   "id": "003a8d53",
   "metadata": {},
   "source": [
    "Question 10: You are working as a data analyst at an e-commerce company. The marketing team wants to segment customers based on their purchasing behavior to run targeted promotions. The dataset contains customer demographics and their product purchase history across categories."
   ]
  },
  {
   "cell_type": "markdown",
   "id": "ce35199f",
   "metadata": {},
   "source": [
    "Describe your real-world data science workflow using clustering:"
   ]
  },
  {
   "cell_type": "markdown",
   "id": "810aaa63",
   "metadata": {},
   "source": [
    "● Which clustering algorithm(s) would you use and why?"
   ]
  },
  {
   "cell_type": "markdown",
   "id": "d7330ba2",
   "metadata": {},
   "source": [
    "● How would you preprocess the data (missing values, scaling)?"
   ]
  },
  {
   "cell_type": "markdown",
   "id": "83afa226",
   "metadata": {},
   "source": [
    "● How would you determine the number of clusters?"
   ]
  },
  {
   "cell_type": "markdown",
   "id": "ff4da180",
   "metadata": {},
   "source": [
    "● How would the marketing team benefit from your clustering analysis? (Include your Python code and output in the code box below.)"
   ]
  },
  {
   "cell_type": "markdown",
   "id": "d04adc2d",
   "metadata": {},
   "source": [
    "Answer:"
   ]
  },
  {
   "cell_type": "markdown",
   "id": "512d8f36",
   "metadata": {},
   "source": [
    "4"
   ]
  },
  {
   "cell_type": "markdown",
   "id": "d81c3b82",
   "metadata": {},
   "source": [
    "5"
   ]
  }
 ],
 "metadata": {},
 "nbformat": 4,
 "nbformat_minor": 5
}
